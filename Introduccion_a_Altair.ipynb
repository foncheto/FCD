{
  "nbformat": 4,
  "nbformat_minor": 0,
  "metadata": {
    "colab": {
      "name": "Guia_1_Introduccion_a_Altair.ipynb",
      "provenance": [],
      "collapsed_sections": []
    },
    "kernelspec": {
      "name": "python3",
      "display_name": "Python 3"
    },
    "language_info": {
      "name": "python"
    }
  },
  "cells": [
    {
      "cell_type": "markdown",
      "source": [
        "# Tutorial 1: Introduccion a Altair\n",
        "\n",
        "En esta guia introduciremos la libreria de visualizaciones [Altair](https://altair-viz.github.io/)\n",
        "\n",
        "*Altair is a declarative statistical visualization library for Python, based on Vega and Vega-Lite, and the source is available on GitHub.*\n",
        "\n",
        "Nota: a diferencia de otras librerias como Seaborn, Altair **NO** esta construido sobre matplotlib"
      ],
      "metadata": {
        "id": "0N2lRv3Mj5b5"
      }
    },
    {
      "cell_type": "code",
      "execution_count": null,
      "metadata": {
        "id": "8bzVnAYgcWj7"
      },
      "outputs": [],
      "source": [
        "import altair as alt\n",
        "import pandas as pd\n",
        "import numpy as np"
      ]
    },
    {
      "cell_type": "markdown",
      "source": [
        "Primero hagamos un grafico basico con altair"
      ],
      "metadata": {
        "id": "kWj3xuopzIrp"
      }
    },
    {
      "cell_type": "code",
      "source": [
        "from vega_datasets import data\n",
        "cars = data.cars()"
      ],
      "metadata": {
        "id": "JHID5cJ_j8n8"
      },
      "execution_count": null,
      "outputs": []
    },
    {
      "cell_type": "markdown",
      "source": [
        "Cargamos un dataset de Vega, en este caso un dataset de autos"
      ],
      "metadata": {
        "id": "HQK7DKIozfil"
      }
    },
    {
      "cell_type": "code",
      "source": [
        "cars"
      ],
      "metadata": {
        "id": "07WA82gezed2"
      },
      "execution_count": null,
      "outputs": []
    },
    {
      "cell_type": "markdown",
      "source": [
        "El formato es un dataframe"
      ],
      "metadata": {
        "id": "AtqWDPH4zm_E"
      }
    },
    {
      "cell_type": "code",
      "source": [
        "type(cars)"
      ],
      "metadata": {
        "id": "YyOIeNbrzlke"
      },
      "execution_count": null,
      "outputs": []
    },
    {
      "cell_type": "markdown",
      "source": [
        "Hagamos un scatterplot que enfrente los caballos de fuerza de un auto versus su rendimiento en millas por galon"
      ],
      "metadata": {
        "id": "tsqV_L8Mzo-A"
      }
    },
    {
      "cell_type": "code",
      "source": [
        "alt.Chart(cars).mark_point().encode(\n",
        "    x='Horsepower',\n",
        "    y='Miles_per_Gallon',\n",
        "    color='Origin',\n",
        ")"
      ],
      "metadata": {
        "id": "EGggNbA8zSXn"
      },
      "execution_count": null,
      "outputs": []
    },
    {
      "cell_type": "markdown",
      "source": [
        "Reconocemos dos conceptos que hemos visto en el curso: marcas y canales. \n",
        "\n",
        "* La marca utilizada es el punto (`mark_point()`)\n",
        "* Tenemos canales espaciales, el eje x y el eje y donde estamos ubicando los caballos de fuerza y el rendimiento, respectivamente\n",
        "* Con el color estamos codificando el pais de origen de los automoviles"
      ],
      "metadata": {
        "id": "yldA3nLozc_x"
      }
    },
    {
      "cell_type": "markdown",
      "source": [
        "# Marcas\n",
        "\n",
        "Tenemos distintas marcas disponibles en Altair. Partamos por las marcas esenciales"
      ],
      "metadata": {
        "id": "KeS1AVL_LLGg"
      }
    },
    {
      "cell_type": "markdown",
      "source": [
        "**Arcos**"
      ],
      "metadata": {
        "id": "R_WCMz8JLXfC"
      }
    },
    {
      "cell_type": "code",
      "source": [
        "source = pd.DataFrame({\"category\": [1, 2, 3, 4, 5, 6], \"value\": [4, 6, 10, 3, 7, 8]})\n",
        "\n",
        "alt.Chart(source).mark_arc().encode(\n",
        "    theta=alt.Theta(field=\"value\", type=\"quantitative\"),\n",
        "    color=alt.Color(field=\"category\", type=\"nominal\"),\n",
        ")"
      ],
      "metadata": {
        "id": "Cq4C9iPyLaGq"
      },
      "execution_count": null,
      "outputs": []
    },
    {
      "cell_type": "markdown",
      "source": [
        "**Areas**"
      ],
      "metadata": {
        "id": "2tng6jr0LacC"
      }
    },
    {
      "cell_type": "code",
      "source": [
        "source = data.iowa_electricity()\n",
        "\n",
        "alt.Chart(source).mark_area().encode(\n",
        "    x=\"year:T\",\n",
        "    y=\"net_generation:Q\",\n",
        "    color=\"source:N\"\n",
        ")"
      ],
      "metadata": {
        "id": "PIXxPecnzTwI"
      },
      "execution_count": null,
      "outputs": []
    },
    {
      "cell_type": "markdown",
      "source": [
        "**Barras**"
      ],
      "metadata": {
        "id": "rCbO3zkXLcat"
      }
    },
    {
      "cell_type": "code",
      "source": [
        "source = pd.DataFrame({\n",
        "    'a': ['A', 'B', 'C', 'D', 'E', 'F', 'G', 'H', 'I'],\n",
        "    'b': [28, 55, 43, 91, 81, 53, 19, 87, 52]\n",
        "})\n",
        "\n",
        "alt.Chart(source).mark_bar().encode(\n",
        "    x='a',\n",
        "    y='b'\n",
        ")"
      ],
      "metadata": {
        "id": "JbwSyTnHLeB_"
      },
      "execution_count": null,
      "outputs": []
    },
    {
      "cell_type": "markdown",
      "source": [
        "**Lineas**"
      ],
      "metadata": {
        "id": "ULLzieefLe8u"
      }
    },
    {
      "cell_type": "code",
      "source": [
        "x = np.arange(100)\n",
        "source = pd.DataFrame({\n",
        "  'x': x,\n",
        "  'f(x)': np.sin(x / 5)\n",
        "})\n",
        "\n",
        "alt.Chart(source).mark_line().encode(\n",
        "    x='x',\n",
        "    y='f(x)'\n",
        ")"
      ],
      "metadata": {
        "id": "EETPrJ6WLeWs"
      },
      "execution_count": null,
      "outputs": []
    },
    {
      "cell_type": "markdown",
      "source": [
        "**Areas rectangulares**"
      ],
      "metadata": {
        "id": "dSi_6gEc3gkm"
      }
    },
    {
      "cell_type": "code",
      "source": [
        "# Areas rectangulares\n",
        "\n",
        "x, y = np.meshgrid(range(-5, 5), range(-5, 5))\n",
        "z = x ** 2 + y ** 2\n",
        "\n",
        "# Convert this grid to columnar data expected by Altair\n",
        "source = pd.DataFrame({'x': x.ravel(),\n",
        "                     'y': y.ravel(),\n",
        "                     'z': z.ravel()})\n",
        "\n",
        "alt.Chart(source).mark_rect().encode(\n",
        "    x='x:O',\n",
        "    y='y:O',\n",
        "    color='z:Q'\n",
        ")"
      ],
      "metadata": {
        "id": "-Tu2OSIyMnbC"
      },
      "execution_count": null,
      "outputs": []
    },
    {
      "cell_type": "markdown",
      "source": [
        "## Marcas compuestas"
      ],
      "metadata": {
        "id": "050SfvBLLnR9"
      }
    },
    {
      "cell_type": "markdown",
      "source": [
        "**Boxplot**"
      ],
      "metadata": {
        "id": "Tmuz0Ek2LpPr"
      }
    },
    {
      "cell_type": "code",
      "source": [
        "import altair as alt\n",
        "from vega_datasets import data\n",
        "\n",
        "source = data.population.url\n",
        "\n",
        "alt.Chart(source).mark_boxplot(extent='min-max').encode(\n",
        "    x='age:O',\n",
        "    y='people:Q'\n",
        ")"
      ],
      "metadata": {
        "id": "h-LyZOKoLopO"
      },
      "execution_count": null,
      "outputs": []
    },
    {
      "cell_type": "markdown",
      "source": [
        "**Banda de error**"
      ],
      "metadata": {
        "id": "P9d3CDVcLqez"
      }
    },
    {
      "cell_type": "code",
      "source": [
        "source = data.cars()\n",
        "\n",
        "line = alt.Chart(source).mark_line().encode(\n",
        "    x='Year',\n",
        "    y='mean(Miles_per_Gallon)'\n",
        ")\n",
        "\n",
        "band = alt.Chart(source).mark_errorband(extent='ci').encode(\n",
        "    x='Year',\n",
        "    y=alt.Y('Miles_per_Gallon', title='Miles/Gallon'),\n",
        ")\n",
        "\n",
        "band + line"
      ],
      "metadata": {
        "id": "0wFzO7AyLtfa"
      },
      "execution_count": null,
      "outputs": []
    },
    {
      "cell_type": "markdown",
      "source": [
        "**Barra de error**"
      ],
      "metadata": {
        "id": "k5rEYnhzLvi4"
      }
    },
    {
      "cell_type": "code",
      "source": [
        "source = data.barley()\n",
        "\n",
        "error_bars = alt.Chart(source).mark_errorbar(extent='ci').encode(\n",
        "  x=alt.X('yield:Q', scale=alt.Scale(zero=False)),\n",
        "  y=alt.Y('variety:N')\n",
        ")\n",
        "\n",
        "points = alt.Chart(source).mark_point(filled=True, color='black').encode(\n",
        "  x=alt.X('yield:Q', aggregate='mean'),\n",
        "  y=alt.Y('variety:N'),\n",
        ")\n",
        "\n",
        "error_bars + points"
      ],
      "metadata": {
        "id": "urQoC6NHLwqi"
      },
      "execution_count": null,
      "outputs": []
    },
    {
      "cell_type": "markdown",
      "source": [
        "Las marcas tienen propiedades que se especifican en los argumentos de `mark_*()`. Mas informacion [aqui](https://altair-viz.github.io/user_guide/marks.html#mark-properties)"
      ],
      "metadata": {
        "id": "cU-gkSP8M6T_"
      }
    },
    {
      "cell_type": "markdown",
      "source": [
        "# Canales\n",
        "\n",
        "Altair posee varios canales de codificacion (tanto de magnitud como de identidad). "
      ],
      "metadata": {
        "id": "9MTn5taSNAco"
      }
    },
    {
      "cell_type": "markdown",
      "source": [
        "## Canales de posicion"
      ],
      "metadata": {
        "id": "TUN6iqSeNQy6"
      }
    },
    {
      "cell_type": "code",
      "source": [
        "# Ejes x e y\n",
        "source = data.cars()\n",
        "\n",
        "alt.Chart(source).mark_circle(size=60).encode(\n",
        "    x='Horsepower',\n",
        "    y='Miles_per_Gallon',\n",
        "    color='Origin'\n",
        ")"
      ],
      "metadata": {
        "id": "_5cwzZOFNGqx"
      },
      "execution_count": null,
      "outputs": []
    },
    {
      "cell_type": "code",
      "source": [
        "# Rangos (en este caso en el eje X)\n",
        "source = pd.DataFrame([\n",
        "    {\"task\": \"A\", \"start\": 1, \"end\": 3},\n",
        "    {\"task\": \"B\", \"start\": 3, \"end\": 8},\n",
        "    {\"task\": \"C\", \"start\": 8, \"end\": 10}\n",
        "])\n",
        "\n",
        "alt.Chart(source).mark_bar().encode(\n",
        "    x='start',\n",
        "    x2='end',\n",
        "    y='task'\n",
        ")\n"
      ],
      "metadata": {
        "id": "oLoB6WZ1P2dO"
      },
      "execution_count": null,
      "outputs": []
    },
    {
      "cell_type": "code",
      "source": [
        "# Angulos y Radio (Theta)\n",
        "\n",
        "source = pd.DataFrame({\"values\": [12, 23, 47, 6, 52, 19]})\n",
        "\n",
        "base = alt.Chart(source).encode(\n",
        "    theta=alt.Theta(\"values:Q\", stack=True),\n",
        "    radius=alt.Radius(\"values\", scale=alt.Scale(type=\"sqrt\", zero=True, rangeMin=20)),\n",
        "    color=\"values:N\",\n",
        ")\n",
        "\n",
        "c1 = base.mark_arc(innerRadius=20, stroke=\"#fff\")\n",
        "\n",
        "c2 = base.mark_text(radiusOffset=10).encode(text=\"values:Q\")\n",
        "\n",
        "c1 + c2"
      ],
      "metadata": {
        "id": "eHyF9CH0P_mj"
      },
      "execution_count": null,
      "outputs": []
    },
    {
      "cell_type": "markdown",
      "source": [
        "## Canales que aplican a la marca"
      ],
      "metadata": {
        "id": "-1oPmOEJNVBI"
      }
    },
    {
      "cell_type": "code",
      "source": [
        "# Color y forma\n",
        "\n",
        "alt.Chart(cars).mark_point().encode(\n",
        "    x='Horsepower',\n",
        "    y='Miles_per_Gallon',\n",
        "    color='Origin',\n",
        "    shape='Origin'\n",
        ")\n"
      ],
      "metadata": {
        "id": "Nn2wOqFGNinx"
      },
      "execution_count": null,
      "outputs": []
    },
    {
      "cell_type": "code",
      "source": [
        "# Tamaño\n",
        "\n",
        "source = data.github.url\n",
        "\n",
        "alt.Chart(source).mark_circle().encode(\n",
        "    x='hours(time):O',\n",
        "    y='day(time):O',\n",
        "    size='sum(count):Q'\n",
        ")"
      ],
      "metadata": {
        "id": "qObvVkPMNluN"
      },
      "execution_count": null,
      "outputs": []
    },
    {
      "cell_type": "code",
      "source": [
        "# Colormaps\n",
        "# https://vega.github.io/vega/docs/schemes/\n",
        "\n",
        "iris = data.iris()\n",
        "\n",
        "alt.Chart(iris).mark_point().encode(\n",
        "    x='petalWidth',\n",
        "    y='petalLength',\n",
        "    color=alt.Color('species', scale=alt.Scale(scheme='dark2'))\n",
        ")"
      ],
      "metadata": {
        "id": "cXhEpVNvAnms"
      },
      "execution_count": null,
      "outputs": []
    },
    {
      "cell_type": "code",
      "source": [
        "# Custom Colormaps\n",
        "\n",
        "iris = data.iris()\n",
        "domain = ['setosa', 'versicolor', 'virginica']\n",
        "range_ = ['#d472ed', '#5fad82', '#edb64e']\n",
        "\n",
        "alt.Chart(iris).mark_point().encode(\n",
        "    x='petalWidth',\n",
        "    y='petalLength',\n",
        "    color=alt.Color('species', scale=alt.Scale(domain=domain, range=range_))\n",
        ")"
      ],
      "metadata": {
        "id": "npsuyaH6A2D9"
      },
      "execution_count": null,
      "outputs": []
    },
    {
      "cell_type": "code",
      "source": [
        "# Quizas el colormap viene en el dataset\n",
        "\n",
        "df = pd.DataFrame({\n",
        "    'x': range(6),\n",
        "    'color': ['red', 'steelblue', 'chartreuse', '#F4D03F', '#D35400', '#7D3C98']\n",
        "})\n",
        "\n",
        "alt.Chart(df).mark_point(\n",
        "    filled=True,\n",
        "    size=100\n",
        ").encode(\n",
        "    x='x',\n",
        "    color=alt.Color('color', scale=None)\n",
        ")"
      ],
      "metadata": {
        "id": "RjWIZiIzBEVk"
      },
      "execution_count": null,
      "outputs": []
    },
    {
      "cell_type": "markdown",
      "source": [
        "## Otros canales"
      ],
      "metadata": {
        "id": "ZC_esubwQHMn"
      }
    },
    {
      "cell_type": "code",
      "source": [
        "# texto\n",
        "source = pd.DataFrame({\n",
        "    'x': [1, 3, 5, 7, 9],\n",
        "    'y': [1, 3, 5, 7, 9],\n",
        "    'label': ['A', 'B', 'C', 'D', 'E']\n",
        "})\n",
        "\n",
        "points = alt.Chart(source).mark_point().encode(\n",
        "    x='x:Q',\n",
        "    y='y:Q'\n",
        ")\n",
        "\n",
        "text = points.mark_text(\n",
        "    align='left',\n",
        "    baseline='middle',\n",
        "    dx=7\n",
        ").encode(\n",
        "    text='label'\n",
        ")\n",
        "\n",
        "points + text\n"
      ],
      "metadata": {
        "id": "DHcukLbRQIS2"
      },
      "execution_count": null,
      "outputs": []
    },
    {
      "cell_type": "code",
      "source": [
        "# Interactividad (Clase 7)\n",
        "\n",
        "alt.Chart(cars).mark_point().encode(\n",
        "    x='Horsepower',\n",
        "    y='Miles_per_Gallon',\n",
        "    color='Origin',\n",
        "    tooltip='Name'\n",
        ").interactive()"
      ],
      "metadata": {
        "id": "ZjK2MecHQODN"
      },
      "execution_count": null,
      "outputs": []
    },
    {
      "cell_type": "markdown",
      "source": [
        "# Otros"
      ],
      "metadata": {
        "id": "B1shuFtYRZWL"
      }
    },
    {
      "cell_type": "code",
      "source": [
        "# Orden\n",
        "\n",
        "barley = data.barley()\n",
        "\n",
        "alt.Chart(barley).mark_bar().encode(\n",
        "    x='variety:N',\n",
        "    y='sum(yield):Q',\n",
        "    color='site:N',\n",
        "    order=alt.Order(\"site\", sort=\"ascending\")\n",
        ")"
      ],
      "metadata": {
        "id": "cgcfdnyV_YHg"
      },
      "execution_count": null,
      "outputs": []
    },
    {
      "cell_type": "code",
      "source": [
        "# Ajustar ejes\n",
        "\n",
        "alt.Chart(cars).mark_point().encode(\n",
        "    alt.X('Acceleration:Q',\n",
        "        scale=alt.Scale(domain=(5, 30))\n",
        "    ),\n",
        "    y='Horsepower:Q'\n",
        ")"
      ],
      "metadata": {
        "id": "bk-xgFXtRduu"
      },
      "execution_count": null,
      "outputs": []
    },
    {
      "cell_type": "code",
      "source": [
        "# Labels\n",
        "\n",
        "df = pd.DataFrame({'x': [0.03, 0.04, 0.05, 0.12, 0.07, 0.15],\n",
        "                   'y': [10, 35, 39, 50, 24, 35]})\n",
        "\n",
        "alt.Chart(df).mark_circle().encode(\n",
        "    x=alt.X('x', axis=alt.Axis(format='%', title='percentage')),\n",
        "    y=alt.Y('y', axis=alt.Axis(format='$', title='dollar amount'))\n",
        ")"
      ],
      "metadata": {
        "id": "I6r-4T2BAEjt"
      },
      "execution_count": null,
      "outputs": []
    },
    {
      "cell_type": "code",
      "source": [
        "# leyenda\n",
        "\n",
        "iris = data.iris()\n",
        "\n",
        "alt.Chart(iris).mark_point().encode(\n",
        "    x='petalWidth',\n",
        "    y='petalLength',\n",
        "    color=alt.Color('species', legend=alt.Legend(title=\"Species by color\", orient=\"left\"))\n",
        ")"
      ],
      "metadata": {
        "id": "6VE4y27iRhg-"
      },
      "execution_count": null,
      "outputs": []
    },
    {
      "cell_type": "code",
      "source": [
        "# Grilla y  bordes\n",
        "\n",
        "iris = data.iris()\n",
        "\n",
        "alt.Chart(iris).mark_point().encode(\n",
        "    x='petalWidth',\n",
        "    y='petalLength',\n",
        "    color='species'\n",
        ").configure_axis(\n",
        "    grid=False\n",
        ").configure_view(\n",
        "    strokeWidth=0\n",
        ")"
      ],
      "metadata": {
        "id": "NM42Tp-WRibp"
      },
      "execution_count": null,
      "outputs": []
    },
    {
      "cell_type": "code",
      "source": [
        "# Tamaño\n",
        "\n",
        "cars = data.cars()\n",
        "\n",
        "alt.Chart(cars).mark_bar().encode(\n",
        "    x='Origin',\n",
        "    y='count()'\n",
        ").properties(\n",
        "    width=200,\n",
        "    height=150\n",
        ")"
      ],
      "metadata": {
        "id": "vnbwG4KPRySj"
      },
      "execution_count": null,
      "outputs": []
    },
    {
      "cell_type": "code",
      "source": [
        "# Multiples visualizaciones\n",
        "\n",
        "alt.Chart(cars).mark_bar().encode(\n",
        "    x='Origin',\n",
        "    y='count()',\n",
        "    column='Cylinders:Q'\n",
        ")"
      ],
      "metadata": {
        "id": "Oc0ASIJQBxeb"
      },
      "execution_count": null,
      "outputs": []
    }
  ]
}