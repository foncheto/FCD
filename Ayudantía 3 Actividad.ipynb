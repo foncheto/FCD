{
 "cells": [
  {
   "cell_type": "markdown",
   "id": "d71df8f6",
   "metadata": {},
   "source": [
    "# Visualización"
   ]
  },
  {
   "cell_type": "code",
   "execution_count": 1,
   "id": "653c026a",
   "metadata": {},
   "outputs": [],
   "source": [
    "#Importamos las librerias\n",
    "import pandas as pd\n",
    "import numpy as np\n",
    "import matplotlib.pyplot as plt\n",
    "import seaborn as sns"
   ]
  },
  {
   "cell_type": "markdown",
   "id": "9271b64b",
   "metadata": {},
   "source": [
    "# Actividad 1\n",
    "\n",
    "- Mostrar la base de datos que contenga la altura, el peso y el IMC de los deportistas. Para los valores nulos, agregar las medias(Promedio) de los datos de las columnas respectivas."
   ]
  },
  {
   "cell_type": "code",
   "execution_count": null,
   "id": "492edf73",
   "metadata": {},
   "outputs": [],
   "source": []
  },
  {
   "cell_type": "markdown",
   "id": "082dc024",
   "metadata": {},
   "source": [
    "# Actividad 2\n",
    "- Realice visualizaciones de la edad, el año y la temporada, con las librerias de matpltlib, seaborn / especifique porque graficaron, con esos tipos de graficos."
   ]
  },
  {
   "cell_type": "code",
   "execution_count": null,
   "id": "514b18f0",
   "metadata": {},
   "outputs": [],
   "source": []
  },
  {
   "cell_type": "markdown",
   "id": "b77364f3",
   "metadata": {},
   "source": [
    "# Actividad 3\n",
    "\n",
    "- Genere una visualización que muestre la cantidad de medallas por genero ordenadas de mayor a menor.\n",
    "\n"
   ]
  },
  {
   "cell_type": "code",
   "execution_count": null,
   "id": "db7a13a1",
   "metadata": {},
   "outputs": [],
   "source": []
  },
  {
   "cell_type": "markdown",
   "id": "9a0cef01",
   "metadata": {},
   "source": [
    "# Actividad 4\n",
    "\n",
    "\n",
    "- Grafique un diagrama de dispersión con las variables altura, peso y region(Noc), con diferentes colores para cada pais destacando USA. Luego, muestre en un grafico solo a las personas que son deportistas USA. ¿Que se puede observar de ambos graficos?\n",
    "\n",
    "\n",
    "* Disminuya la cantidad de datos a solo 500 datos (solo para vizulizar) \n",
    "* Hint: Utilize el comando c.map #Buscar en internet"
   ]
  },
  {
   "cell_type": "code",
   "execution_count": null,
   "id": "899a21b1",
   "metadata": {},
   "outputs": [],
   "source": []
  }
 ],
 "metadata": {
  "kernelspec": {
   "display_name": "Python 3",
   "language": "python",
   "name": "python3"
  },
  "language_info": {
   "codemirror_mode": {
    "name": "ipython",
    "version": 3
   },
   "file_extension": ".py",
   "mimetype": "text/x-python",
   "name": "python",
   "nbconvert_exporter": "python",
   "pygments_lexer": "ipython3",
   "version": "3.8.8"
  }
 },
 "nbformat": 4,
 "nbformat_minor": 5
}
